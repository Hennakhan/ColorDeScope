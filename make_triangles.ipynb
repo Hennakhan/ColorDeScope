{
 "cells": [
  {
   "cell_type": "code",
   "execution_count": 39,
   "metadata": {},
   "outputs": [],
   "source": [
    "import pygame as pg\n",
    "import numpy as np\n",
    "from math import pi as pi"
   ]
  },
  {
   "cell_type": "code",
   "execution_count": 45,
   "metadata": {},
   "outputs": [],
   "source": [
    "def create_triangle(screen_w, screen_h, percent):\n",
    "    center_x, center_y = screen_w//2, screen_h//2\n",
    "    width = int(center_x * percent)\n",
    "    height = int(width//2 * np.tan(60*pi/180))\n",
    "    return ( (center_x, center_y), (center_x+width, center_y), (center_x+width//2, center_y-height) )\n",
    "\n",
    "def mirror_to_trapezoid(points):\n",
    "    pass\n"
   ]
  },
  {
   "cell_type": "code",
   "execution_count": 46,
   "metadata": {},
   "outputs": [],
   "source": [
    "\n",
    "pg.init()\n",
    "\n",
    "# Set up the drawing window\n",
    "screen = pg.display.set_mode([500, 500])\n",
    "\n",
    "# Run until the user asks to quit\n",
    "running = True\n",
    "while running:\n",
    "\n",
    "    # Did the user click the window close button?\n",
    "    for event in pg.event.get():\n",
    "        if event.type == pg.QUIT:\n",
    "            running = False\n",
    "\n",
    "    # Fill the background with white\n",
    "    screen.fill((255, 255, 255))\n",
    "\n",
    "    # Draw a solid blue circle in the center\n",
    "    #pg.draw.circle(screen, (0, 0, 255), (250, 250), 75)\n",
    "    points = create_triangle(500, 500, 1)\n",
    "    for point in points:\n",
    "        pygame.draw.circle(screen, (0, 0, 255), (point[0],point[1]), 10)\n",
    "\n",
    "    # Flip the display\n",
    "    pg.display.flip()\n",
    "\n",
    "# Done! Time to quit.\n",
    "pg.quit()"
   ]
  },
  {
   "cell_type": "code",
   "execution_count": null,
   "metadata": {},
   "outputs": [],
   "source": []
  },
  {
   "cell_type": "code",
   "execution_count": null,
   "metadata": {},
   "outputs": [],
   "source": []
  }
 ],
 "metadata": {
  "kernelspec": {
   "display_name": "Python 3",
   "language": "python",
   "name": "python3"
  },
  "language_info": {
   "codemirror_mode": {
    "name": "ipython",
    "version": 3
   },
   "file_extension": ".py",
   "mimetype": "text/x-python",
   "name": "python",
   "nbconvert_exporter": "python",
   "pygments_lexer": "ipython3",
   "version": "3.6.8"
  }
 },
 "nbformat": 4,
 "nbformat_minor": 2
}
